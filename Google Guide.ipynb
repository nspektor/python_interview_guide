{
 "cells": [
  {
   "cell_type": "markdown",
   "metadata": {},
   "source": [
    "# Mark Abramov's super awesome Google interview guide\n",
    "## Made by your 1 tru 😍\n",
    "\n",
    "# Table of Contents\n",
    "1. Data Structures\n",
    "    - Lists\n",
    "    - Dictionaries\n",
    "    - Sets\n",
    "    - Binary Trees\n",
    "2. Graphs\n",
    "3. BFS\n",
    "4. DFS\n",
    "5. Objects\n",
    "\n",
    "    "
   ]
  },
  {
   "cell_type": "markdown",
   "metadata": {},
   "source": [
    "## Data Structures\n",
    "### Lists"
   ]
  },
  {
   "cell_type": "code",
   "execution_count": null,
   "metadata": {},
   "outputs": [],
   "source": [
    "greeting = list('HiMark') #string to list\n",
    "greeting"
   ]
  },
  {
   "cell_type": "code",
   "execution_count": null,
   "metadata": {},
   "outputs": [],
   "source": [
    "greeting.append('!') #adds 1 element to the end"
   ]
  },
  {
   "cell_type": "code",
   "execution_count": null,
   "metadata": {},
   "outputs": [],
   "source": [
    "greeting.extend(['<', '3']) #extend appends all the elements of the given list"
   ]
  },
  {
   "cell_type": "code",
   "execution_count": null,
   "metadata": {},
   "outputs": [],
   "source": [
    "greeting"
   ]
  },
  {
   "cell_type": "code",
   "execution_count": null,
   "metadata": {},
   "outputs": [],
   "source": [
    "greet_string = ''.join(greeting) #joins with '' between every element"
   ]
  },
  {
   "cell_type": "code",
   "execution_count": null,
   "metadata": {},
   "outputs": [],
   "source": [
    "greeting * 2 # the list twice"
   ]
  },
  {
   "cell_type": "code",
   "execution_count": null,
   "metadata": {},
   "outputs": [],
   "source": [
    "greet_string * 2 #the string twice"
   ]
  },
  {
   "cell_type": "markdown",
   "metadata": {},
   "source": [
    "Converting to Ascii:\n",
    "    - ord(c) converts a character to its ascii value\n",
    "    - doing this in a list comprehenstion (thats what the [ for in ] thing is called) does it for every char in the string"
   ]
  },
  {
   "cell_type": "code",
   "execution_count": null,
   "metadata": {},
   "outputs": [],
   "source": [
    "greet_ascii = [ord(c) for c in greet_string]\n",
    "greet_ascii"
   ]
  },
  {
   "cell_type": "code",
   "execution_count": null,
   "metadata": {},
   "outputs": [],
   "source": [
    "''.join(chr(i) for i in greet_ascii) # you can do a little list comprehension inside a method call without the []"
   ]
  },
  {
   "cell_type": "code",
   "execution_count": null,
   "metadata": {},
   "outputs": [],
   "source": [
    "sorted_ascii = sorted(greet_ascii)\n",
    "sorted_ascii"
   ]
  },
  {
   "cell_type": "markdown",
   "metadata": {},
   "source": [
    "- you can use the optional key argument and pass it a lambda function\n",
    "- `lambda VARIABLE_NAME_YOU_DEFINE: whatever you want to do to the VAR`"
   ]
  },
  {
   "cell_type": "code",
   "execution_count": null,
   "metadata": {},
   "outputs": [],
   "source": [
    "greeting.sort(key = lambda char: char.upper()) \n",
    "greeting = greeting[::-1] # REVERSE the list\n",
    "greeting"
   ]
  },
  {
   "cell_type": "markdown",
   "metadata": {},
   "source": [
    "#### List Complexities\n",
    "\n",
    "| Operation | Big O      |\n",
    "|-----------|------------|\n",
    "| append    | O(1)       |\n",
    "| Pop Last  | O(1)       |\n",
    "| Insert    | O(n)       |\n",
    "| Get/Set   | O(1)       |\n",
    "| Length    | O(1)       |\n",
    "| Sort      | O(n log n) |"
   ]
  },
  {
   "cell_type": "markdown",
   "metadata": {},
   "source": [
    "\n",
    "---\n",
    "### Dictionaries\n",
    "- `len(d)` returns the number of key,value pairs\n",
    "- `del d[k]` deletes the key k and its value\n",
    "- `d.pop(k)` deletes key and value and returns the value\n",
    "    - can put a default value for if k isnt in the dict: `d.pop(k, 'nope')`\n",
    "    - otherwise there will be a *KeyError*\n",
    "- `if k in d` if there is a key k in dictionary d\n",
    "- `d1.update(d2)` merges the dictionaries\n",
    "- `L = list(D)` converts dictionary into list of 2-item tuples\n",
    "- `D = dict(zip(L1, L2))` zips and converts 2 lists into a dictionary"
   ]
  },
  {
   "cell_type": "code",
   "execution_count": null,
   "metadata": {},
   "outputs": [],
   "source": [
    "rappers = {} # creating empty dictionary"
   ]
  },
  {
   "cell_type": "code",
   "execution_count": null,
   "metadata": {},
   "outputs": [],
   "source": [
    "rappers['Kanye'] = 1\n",
    "rappers['J Cole'] = 2\n",
    "rappers['Nicki Minaj'] = 15\n",
    "rappers"
   ]
  },
  {
   "cell_type": "code",
   "execution_count": null,
   "metadata": {},
   "outputs": [],
   "source": [
    "len(rappers)"
   ]
  },
  {
   "cell_type": "code",
   "execution_count": null,
   "metadata": {},
   "outputs": [],
   "source": [
    "for ranking in rappers.values(): #also: rappers.keys()\n",
    "    print(ranking)"
   ]
  },
  {
   "cell_type": "code",
   "execution_count": null,
   "metadata": {},
   "outputs": [],
   "source": [
    "for rapper, ranking in rappers.items():\n",
    "    print('the number ', ranking, ' rapper is ', rapper)"
   ]
  },
  {
   "cell_type": "markdown",
   "metadata": {},
   "source": [
    "#### Dictionary Complexities\n",
    "| Operation | Big O      |\n",
    "|-----------|------------|\n",
    "| Delete    | O(1)       |\n",
    "| Insert    | O(n)       |\n",
    "| Get/Set   | O(1)       |\n",
    "| Length    | O(1)       |\n",
    "| Sort      | O(n log n) |"
   ]
  },
  {
   "cell_type": "markdown",
   "metadata": {},
   "source": [
    "---\n",
    "### Sets\n",
    "- like a 1 dimensional dictionary\n",
    "- unordered, no duplicates"
   ]
  },
  {
   "cell_type": "code",
   "execution_count": null,
   "metadata": {},
   "outputs": [],
   "source": [
    "your_friends = set()\n",
    "your_friends.add(\"Maxwell\")\n",
    "your_friends.add(\"Stelios\")\n",
    "your_friends.add(\"Jazmyn\")\n",
    "your_friends"
   ]
  },
  {
   "cell_type": "code",
   "execution_count": null,
   "metadata": {},
   "outputs": [],
   "source": [
    "your_friends.add(\"Maxwell\")\n",
    "your_friends"
   ]
  },
  {
   "cell_type": "markdown",
   "metadata": {},
   "source": [
    "    - oh well, guess you cant have 2 Maxwells"
   ]
  },
  {
   "cell_type": "markdown",
   "metadata": {},
   "source": [
    "#### Set Complexities\n",
    "| Operation | Big O      |\n",
    "|-----------|------------|\n",
    "| Delete    | O(1)       |\n",
    "| x in s    | O(1)       |\n",
    "| Get/Set   | O(1)       |\n",
    "| Length    | O(1)       |\n"
   ]
  },
  {
   "cell_type": "markdown",
   "metadata": {},
   "source": [
    "### Binary Trees \n",
    "- not native to python but heres a nice implementation (and a little intro to how classes work)"
   ]
  },
  {
   "cell_type": "code",
   "execution_count": null,
   "metadata": {},
   "outputs": [],
   "source": [
    "class Node:\n",
    "\n",
    "    def __init__(self, data):\n",
    "        # init is the constructor\n",
    "        self.left = None\n",
    "        self.right = None\n",
    "        self.data = data\n",
    "\n",
    "    def insert(self, data): # every method takes self\n",
    "        # Compare the new value with the parent node\n",
    "        if self.data:\n",
    "            if data < self.data:\n",
    "                if self.left is None:\n",
    "                    self.left = Node(data)\n",
    "                else:\n",
    "                    self.left.insert(data)\n",
    "            elif data > self.data:\n",
    "                if self.right is None:\n",
    "                    self.right = Node(data)\n",
    "                else:\n",
    "                    self.right.insert(data)\n",
    "        else:\n",
    "            self.data = data\n",
    "\n",
    "# Print the tree - not a great representation but ya know\n",
    "    def PrintTree(self):\n",
    "        if self.left:\n",
    "            self.left.PrintTree()\n",
    "        print(self.data),\n",
    "        if self.right:\n",
    "            self.right.PrintTree()\n",
    "\n",
    "# Use the insert method to add nodes\n",
    "root = Node(12)\n",
    "root.insert(6)\n",
    "root.insert(14)\n",
    "root.insert(3)\n",
    "\n",
    "root.PrintTree()# notice you dont have to write self\n"
   ]
  },
  {
   "cell_type": "markdown",
   "metadata": {},
   "source": [
    "#### Binary Tree Complexities\n",
    "| Operation | Big O      |\n",
    "|-----------|------------|\n",
    "| Search    | O(n)       |\n",
    "| Insertion | O(n)       |\n",
    "| Deletion  | O(n)       |\n",
    "\n",
    "#### Binary Search Tree Complexities\n",
    "| Operation | Big O      |\n",
    "|-----------|------------|\n",
    "| Search    | O(h)-height|\n",
    "| Insertion | O(h)       |\n",
    "| Deletion  | O(h)       |\n",
    "\n",
    "#### AVL Tree Complexities\n",
    "| Operation | Big O      |\n",
    "|-----------|------------|\n",
    "| Search    | O(log n)   |\n",
    "| Insertion | O(log n)   |\n",
    "| Deletion  | O(log n)   |\n"
   ]
  },
  {
   "attachments": {},
   "cell_type": "markdown",
   "metadata": {},
   "source": [
    "### Graphs\n",
    "- can be represented in Python as a dictionary\n",
    "![graph](http://faculty.cs.niu.edu/~freedman/340/340notes/gifImages/340graph7.gif)\n"
   ]
  },
  {
   "cell_type": "code",
   "execution_count": null,
   "metadata": {},
   "outputs": [],
   "source": [
    "graph = {\n",
    "    'v1': ['v2', 'v4', 'v3'],\n",
    "    'v2': ['v4', 'v5'],\n",
    "    'v3': ['v6'],\n",
    "    'v4': ['v3', 'v6', 'v7'],\n",
    "    'v5': ['v4', 'v7'],\n",
    "    'v6': [],\n",
    "    'v7': ['v6']\n",
    "}"
   ]
  },
  {
   "cell_type": "code",
   "execution_count": null,
   "metadata": {},
   "outputs": [],
   "source": [
    "graph"
   ]
  },
  {
   "cell_type": "markdown",
   "metadata": {},
   "source": [
    "- Find Path"
   ]
  },
  {
   "cell_type": "code",
   "execution_count": null,
   "metadata": {},
   "outputs": [],
   "source": [
    " def find_path(graph, start, end, path=[]):\n",
    "        path = path + [start]\n",
    "        if start == end:\n",
    "            return path\n",
    "        if not start in graph.keys():\n",
    "            return None\n",
    "        for node in graph[start]:\n",
    "            if node not in path:\n",
    "                newpath = find_path(graph, node, end, path)\n",
    "                if newpath: return newpath\n",
    "        return None"
   ]
  },
  {
   "cell_type": "code",
   "execution_count": null,
   "metadata": {},
   "outputs": [],
   "source": [
    "find_path(graph, 'v1', 'v6') #clearly not the best path, just A path"
   ]
  },
  {
   "cell_type": "markdown",
   "metadata": {},
   "source": [
    "I didnt really have time to do this in my own words but here is some stuff I took from [Geeks for Geeks](https://www.geeksforgeeks.org/breadth-first-search-or-bfs-for-a-graph/)"
   ]
  },
  {
   "cell_type": "code",
   "execution_count": null,
   "metadata": {},
   "outputs": [],
   "source": [
    "\n",
    "# Python3 Program to print BFS traversal \n",
    "# from a given source vertex. BFS(int s) \n",
    "# traverses vertices reachable from s. \n",
    "from collections import defaultdict \n",
    "  \n",
    "# This class represents a directed graph \n",
    "# using adjacency list representation \n",
    "class Graph: \n",
    "  \n",
    "    # Constructor \n",
    "    def __init__(self): \n",
    "  \n",
    "        # default dictionary to store graph \n",
    "        self.graph = defaultdict(list) \n",
    "  \n",
    "    # function to add an edge to graph \n",
    "    def addEdge(self,u,v): \n",
    "        self.graph[u].append(v) \n",
    "  \n",
    "    # Function to print a BFS of graph \n",
    "    def BFS(self, s): \n",
    "  \n",
    "        # Mark all the vertices as not visited \n",
    "        visited = [False] * (len(self.graph)) \n",
    "  \n",
    "        # Create a queue for BFS \n",
    "        queue = [] \n",
    "  \n",
    "        # Mark the source node as  \n",
    "        # visited and enqueue it \n",
    "        queue.append(s) \n",
    "        visited[s] = True\n",
    "  \n",
    "        while queue: \n",
    "  \n",
    "            # Dequeue a vertex from  \n",
    "            # queue and print it \n",
    "            s = queue.pop(0) \n",
    "            print (s, end = \" \") \n",
    "  \n",
    "            # Get all adjacent vertices of the \n",
    "            # dequeued vertex s. If a adjacent \n",
    "            # has not been visited, then mark it \n",
    "            # visited and enqueue it \n",
    "            for i in self.graph[s]: \n",
    "                if visited[i] == False: \n",
    "                    queue.append(i) \n",
    "                    visited[i] = True\n",
    "  \n",
    "# Driver code \n",
    "  \n",
    "# Create a graph given in \n",
    "# the above diagram \n",
    "g = Graph() \n",
    "g.addEdge(0, 1) \n",
    "g.addEdge(0, 2) \n",
    "g.addEdge(1, 2) \n",
    "g.addEdge(2, 0) \n",
    "g.addEdge(2, 3) \n",
    "g.addEdge(3, 3) \n",
    "  \n",
    "print (\"Following is Breadth First Traversal\"\n",
    "                  \" (starting from vertex 2)\") \n",
    "g.BFS(2) \n",
    "  \n",
    "# This code is contributed by Neel"
   ]
  },
  {
   "cell_type": "markdown",
   "metadata": {},
   "source": [
    "aaaand for [DFS](https://www.geeksforgeeks.org/depth-first-search-or-dfs-for-a-graph/) "
   ]
  },
  {
   "cell_type": "code",
   "execution_count": null,
   "metadata": {},
   "outputs": [],
   "source": [
    "\n",
    "# Python program to print DFS traversal from a \n",
    "# given given graph \n",
    "from collections import defaultdict \n",
    "  \n",
    "# This class represents a directed graph using \n",
    "# adjacency list representation \n",
    "class Graph: \n",
    "  \n",
    "    # Constructor \n",
    "    def __init__(self): \n",
    "  \n",
    "        # default dictionary to store graph \n",
    "        self.graph = defaultdict(list) \n",
    "  \n",
    "    # function to add an edge to graph \n",
    "    def addEdge(self,u,v): \n",
    "        self.graph[u].append(v) \n",
    "  \n",
    "    # A function used by DFS \n",
    "    def DFSUtil(self,v,visited): \n",
    "  \n",
    "        # Mark the current node as visited and print it \n",
    "        visited[v]= True\n",
    "        print(v) \n",
    "  \n",
    "        # Recur for all the vertices adjacent to this vertex \n",
    "        for i in self.graph[v]: \n",
    "            if visited[i] == False: \n",
    "                self.DFSUtil(i, visited) \n",
    "  \n",
    "  \n",
    "    # The function to do DFS traversal. It uses \n",
    "    # recursive DFSUtil() \n",
    "    def DFS(self,v): \n",
    "  \n",
    "        # Mark all the vertices as not visited \n",
    "        visited = [False]*(len(self.graph)) \n",
    "  \n",
    "        # Call the recursive helper function to print \n",
    "        # DFS traversal \n",
    "        self.DFSUtil(v,visited) \n",
    "  \n",
    "  \n",
    "# Driver code \n",
    "# Create a graph given in the above diagram \n",
    "g = Graph() \n",
    "g.addEdge(0, 1) \n",
    "g.addEdge(0, 2) \n",
    "g.addEdge(1, 2) \n",
    "g.addEdge(2, 0) \n",
    "g.addEdge(2, 3) \n",
    "g.addEdge(3, 3) \n",
    "  \n",
    "print(\"Following is DFS from (starting from vertex 2)\")\n",
    "g.DFS(2) \n",
    "  \n",
    "# This code is contributed by Neelam Yadav "
   ]
  },
  {
   "cell_type": "code",
   "execution_count": null,
   "metadata": {},
   "outputs": [],
   "source": []
  }
 ],
 "metadata": {
  "kernelspec": {
   "display_name": "Python 3",
   "language": "python",
   "name": "python3"
  },
  "language_info": {
   "codemirror_mode": {
    "name": "ipython",
    "version": 3
   },
   "file_extension": ".py",
   "mimetype": "text/x-python",
   "name": "python",
   "nbconvert_exporter": "python",
   "pygments_lexer": "ipython3",
   "version": "3.6.5"
  }
 },
 "nbformat": 4,
 "nbformat_minor": 2
}
